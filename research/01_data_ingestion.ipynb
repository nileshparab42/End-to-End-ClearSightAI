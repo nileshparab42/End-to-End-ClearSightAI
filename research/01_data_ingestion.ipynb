{
 "cells": [
  {
   "cell_type": "code",
   "execution_count": 2,
   "metadata": {},
   "outputs": [],
   "source": [
    "import os"
   ]
  },
  {
   "cell_type": "code",
   "execution_count": 3,
   "metadata": {},
   "outputs": [
    {
     "data": {
      "text/plain": [
       "'c:\\\\Users\\\\Nilesh\\\\Documents\\\\GitHub\\\\End to End ClearSight AI\\\\research'"
      ]
     },
     "execution_count": 3,
     "metadata": {},
     "output_type": "execute_result"
    }
   ],
   "source": [
    "%pwd"
   ]
  },
  {
   "cell_type": "code",
   "execution_count": 4,
   "metadata": {},
   "outputs": [],
   "source": [
    "os.chdir(\"../\")"
   ]
  },
  {
   "cell_type": "code",
   "execution_count": 5,
   "metadata": {},
   "outputs": [
    {
     "data": {
      "text/plain": [
       "'c:\\\\Users\\\\Nilesh\\\\Documents\\\\GitHub\\\\End to End ClearSight AI'"
      ]
     },
     "execution_count": 5,
     "metadata": {},
     "output_type": "execute_result"
    }
   ],
   "source": [
    "%pwd"
   ]
  },
  {
   "cell_type": "code",
   "execution_count": 6,
   "metadata": {},
   "outputs": [],
   "source": [
    "os.chdir(\"src\")"
   ]
  },
  {
   "cell_type": "code",
   "execution_count": 7,
   "metadata": {},
   "outputs": [
    {
     "data": {
      "text/plain": [
       "'c:\\\\Users\\\\Nilesh\\\\Documents\\\\GitHub\\\\End to End ClearSight AI\\\\src'"
      ]
     },
     "execution_count": 7,
     "metadata": {},
     "output_type": "execute_result"
    }
   ],
   "source": [
    "%pwd"
   ]
  },
  {
   "cell_type": "code",
   "execution_count": 8,
   "metadata": {},
   "outputs": [
    {
     "name": "stdout",
     "output_type": "stream",
     "text": [
      " Volume in drive C is Windows\n",
      " Volume Serial Number is 666A-2AE9\n",
      "\n",
      " Directory of c:\\Users\\Nilesh\\Documents\\GitHub\\End to End ClearSight AI\\src\n",
      "\n",
      "17-04-2024  14:01    <DIR>          .\n",
      "17-04-2024  12:47    <DIR>          ..\n",
      "17-04-2024  12:47    <DIR>          clearSightAI\n",
      "17-04-2024  12:40    <DIR>          clearSightAI.egg-info\n",
      "17-04-2024  14:01    <DIR>          logs\n",
      "               0 File(s)              0 bytes\n",
      "               5 Dir(s)  291,016,257,536 bytes free\n"
     ]
    }
   ],
   "source": [
    "%ls"
   ]
  },
  {
   "cell_type": "code",
   "execution_count": 9,
   "metadata": {},
   "outputs": [],
   "source": [
    "from dataclasses import dataclass\n",
    "from pathlib import Path\n",
    "\n",
    "@dataclass(frozen=True)\n",
    "class DataIngestionConfig:\n",
    "    root_dir: Path\n",
    "    source_URL: str\n",
    "    local_data_file: Path\n",
    "    unzip_dir: Path"
   ]
  },
  {
   "cell_type": "code",
   "execution_count": 10,
   "metadata": {},
   "outputs": [],
   "source": [
    "from clearSightAI.constants import *\n",
    "from clearSightAI.utils.common import read_yaml, create_directories"
   ]
  },
  {
   "cell_type": "code",
   "execution_count": 11,
   "metadata": {},
   "outputs": [],
   "source": [
    "class ConfigurationManager:\n",
    "    def __init__(\n",
    "        self,\n",
    "        config_filepath = CONFIG_FILE_PATH,\n",
    "        params_filepath = PARAMS_FILE_PATH):\n",
    "\n",
    "        self.config = read_yaml(config_filepath)\n",
    "        self.params = read_yaml(params_filepath)\n",
    "\n",
    "        create_directories([self.config.artifacts_root])\n",
    "\n",
    "\n",
    "    \n",
    "    def get_data_ingestion_config(self) -> DataIngestionConfig:\n",
    "        config = self.config.data_ingestion\n",
    "\n",
    "        create_directories([config.root_dir])\n",
    "\n",
    "        data_ingestion_config = DataIngestionConfig(\n",
    "            root_dir=config.root_dir,\n",
    "            source_URL=config.source_URL,\n",
    "            local_data_file=config.local_data_file,\n",
    "            unzip_dir=config.unzip_dir \n",
    "        )\n",
    "\n",
    "        return data_ingestion_config"
   ]
  },
  {
   "cell_type": "code",
   "execution_count": 15,
   "metadata": {},
   "outputs": [],
   "source": [
    "import os\n",
    "import zipfile\n",
    "import gdown\n",
    "from clearSightAI import logger\n",
    "from clearSightAI.utils.common import get_size"
   ]
  },
  {
   "cell_type": "code",
   "execution_count": 16,
   "metadata": {},
   "outputs": [],
   "source": [
    "class DataIngestion:\n",
    "    def __init__(self, config: DataIngestionConfig):\n",
    "        self.config = config\n",
    "\n",
    "    \n",
    "    def download_file(self)-> str:\n",
    "        '''\n",
    "        Fetch data from the url\n",
    "        '''\n",
    "\n",
    "        try: \n",
    "            dataset_url = self.config.source_URL\n",
    "            zip_download_dir = self.config.local_data_file\n",
    "            os.makedirs(\"artifacts/data_ingestion\", exist_ok=True)\n",
    "            logger.info(f\"Downloading data from {dataset_url} into file {zip_download_dir}\")\n",
    "\n",
    "            file_id = dataset_url.split(\"/\")[-2]\n",
    "            prefix = 'https://drive.google.com/uc?/export=download&id='\n",
    "            gdown.download(prefix+file_id,zip_download_dir)\n",
    "\n",
    "            logger.info(f\"Downloaded data from {dataset_url} into file {zip_download_dir}\")\n",
    "\n",
    "        except Exception as e:\n",
    "            raise e\n",
    "        \n",
    "    \n",
    "\n",
    "    def extract_zip_file(self):\n",
    "        \"\"\"\n",
    "        zip_file_path: str\n",
    "        Extracts the zip file into the data directory\n",
    "        Function returns None\n",
    "        \"\"\"\n",
    "        unzip_path = self.config.unzip_dir\n",
    "        os.makedirs(unzip_path, exist_ok=True)\n",
    "        with zipfile.ZipFile(self.config.local_data_file, 'r') as zip_ref:\n",
    "            zip_ref.extractall(unzip_path)"
   ]
  },
  {
   "cell_type": "code",
   "execution_count": 19,
   "metadata": {},
   "outputs": [
    {
     "name": "stdout",
     "output_type": "stream",
     "text": [
      " Volume in drive C is Windows\n",
      " Volume Serial Number is 666A-2AE9\n",
      "\n",
      " Directory of c:\\Users\\Nilesh\\Documents\\GitHub\\End to End ClearSight AI\n",
      "\n",
      "17-04-2024  12:47    <DIR>          .\n",
      "17-04-2024  12:13    <DIR>          ..\n",
      "17-04-2024  12:17    <DIR>          .github\n",
      "17-04-2024  12:17    <DIR>          config\n",
      "17-04-2024  12:17                 0 dvc.yaml\n",
      "17-04-2024  12:47    <DIR>          logs\n",
      "17-04-2024  12:47                79 main.py\n",
      "17-04-2024  12:17                 0 params.yaml\n",
      "17-04-2024  12:39                 0 README.md\n",
      "17-04-2024  12:40               194 requirements.txt\n",
      "17-04-2024  13:42    <DIR>          research\n",
      "17-04-2024  12:37             1,066 setup.py\n",
      "17-04-2024  14:01    <DIR>          src\n",
      "17-04-2024  12:17             1,327 template.py\n",
      "17-04-2024  12:17    <DIR>          templates\n",
      "               7 File(s)          2,666 bytes\n",
      "               8 Dir(s)  290,752,733,184 bytes free\n"
     ]
    }
   ],
   "source": [
    "os.chdir(\"../\")\n",
    "%ls"
   ]
  },
  {
   "cell_type": "code",
   "execution_count": 22,
   "metadata": {},
   "outputs": [
    {
     "name": "stdout",
     "output_type": "stream",
     "text": [
      "[2024-04-17 14:38:39,262: INFO: common: yaml file: config\\config.yaml loaded successfully]\n",
      "[2024-04-17 14:38:39,266: INFO: common: yaml file: params.yaml loaded successfully]\n",
      "[2024-04-17 14:38:39,267: INFO: common: created directory at: artifacts]\n",
      "[2024-04-17 14:38:39,269: INFO: common: created directory at: artifacts/data_ingestion]\n",
      "[2024-04-17 14:38:39,269: INFO: 986331348: Downloading data from https://drive.google.com/file/d/1KuNDdTxWlHkn4Hzr5SOuEJCCtJNF1xuX/view?usp=sharing into file artifacts/data_ingestion/data.zip]\n"
     ]
    },
    {
     "name": "stderr",
     "output_type": "stream",
     "text": [
      "Downloading...\n",
      "From (original): https://drive.google.com/uc?/export=download&id=1KuNDdTxWlHkn4Hzr5SOuEJCCtJNF1xuX\n",
      "From (redirected): https://drive.google.com/uc?%2Fexport=download&id=1KuNDdTxWlHkn4Hzr5SOuEJCCtJNF1xuX&confirm=t&uuid=36bd67a3-0a00-4c3a-b01e-2dbe052fd850\n",
      "To: c:\\Users\\Nilesh\\Documents\\GitHub\\End to End ClearSight AI\\artifacts\\data_ingestion\\data.zip\n",
      "100%|██████████| 57.7M/57.7M [00:20<00:00, 2.86MB/s]"
     ]
    },
    {
     "name": "stdout",
     "output_type": "stream",
     "text": [
      "[2024-04-17 14:39:02,537: INFO: 986331348: Downloaded data from https://drive.google.com/file/d/1KuNDdTxWlHkn4Hzr5SOuEJCCtJNF1xuX/view?usp=sharing into file artifacts/data_ingestion/data.zip]\n"
     ]
    },
    {
     "name": "stderr",
     "output_type": "stream",
     "text": [
      "\n"
     ]
    }
   ],
   "source": [
    "try:\n",
    "    config = ConfigurationManager()\n",
    "    data_ingestion_config = config.get_data_ingestion_config()\n",
    "    data_ingestion = DataIngestion(config=data_ingestion_config)\n",
    "    data_ingestion.download_file()\n",
    "    data_ingestion.extract_zip_file()\n",
    "except Exception as e:\n",
    "    raise e"
   ]
  },
  {
   "cell_type": "code",
   "execution_count": null,
   "metadata": {},
   "outputs": [],
   "source": []
  }
 ],
 "metadata": {
  "kernelspec": {
   "display_name": "csenv",
   "language": "python",
   "name": "python3"
  },
  "language_info": {
   "codemirror_mode": {
    "name": "ipython",
    "version": 3
   },
   "file_extension": ".py",
   "mimetype": "text/x-python",
   "name": "python",
   "nbconvert_exporter": "python",
   "pygments_lexer": "ipython3",
   "version": "3.12.3"
  }
 },
 "nbformat": 4,
 "nbformat_minor": 2
}
